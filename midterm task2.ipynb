{
 "cells": [
  {
   "cell_type": "code",
   "execution_count": 3,
   "metadata": {},
   "outputs": [],
   "source": [
    "import torch\n",
    "import torch.nn as nn\n",
    "import torch.optim as optim\n",
    "import torch.nn.functional as F\n",
    "\n",
    "from torch.autograd import Variable\n",
    "import torchvision\n",
    "import torchvision.datasets as dset\n",
    "import torchvision.transforms as T\n",
    "\n",
    "\n",
    "from torch.utils.data import DataLoader\n",
    "from torch.utils.data import sampler\n",
    "\n",
    "import numpy as np\n"
   ]
  },
  {
   "cell_type": "code",
   "execution_count": 7,
   "metadata": {},
   "outputs": [
    {
     "name": "stdout",
     "output_type": "stream",
     "text": [
      "Files already downloaded and verified\n",
      "Files already downloaded and verified\n",
      "Files already downloaded and verified\n"
     ]
    }
   ],
   "source": [
    "NUM_TRAIN = 49000\n",
    "\n",
    "transform = T.Compose([\n",
    "                T.ToTensor(),\n",
    "                T.Normalize((0.4914, 0.4822, 0.4465), (0.2023, 0.1994, 0.2010))\n",
    "            ])\n",
    "\n",
    "cifar10_train = dset.CIFAR10('./datasets', train=True, download=True,\n",
    "                             transform=transform)\n",
    "loader_train = DataLoader(cifar10_train, batch_size=64, \n",
    "                          sampler=sampler.SubsetRandomSampler(range(NUM_TRAIN)))\n",
    "\n",
    "cifar10_val = dset.CIFAR10('./datasets', train=True, download=True,\n",
    "                           transform=transform)\n",
    "loader_val = DataLoader(cifar10_val, batch_size=64, \n",
    "                        sampler=sampler.SubsetRandomSampler(range(NUM_TRAIN, 50000)))\n",
    "\n",
    "cifar10_test = dset.CIFAR10('./datasets', train=False, download=True, \n",
    "                            transform=transform)\n",
    "loader_test = DataLoader(cifar10_test, batch_size=64)"
   ]
  },
  {
   "cell_type": "code",
   "execution_count": 5,
   "metadata": {},
   "outputs": [
    {
     "name": "stdout",
     "output_type": "stream",
     "text": [
      "using device: cuda\n"
     ]
    }
   ],
   "source": [
    "USE_GPU = True\n",
    "\n",
    "dtype = torch.float32 \n",
    "\n",
    "if USE_GPU and torch.cuda.is_available():\n",
    "    device = torch.device('cuda')\n",
    "else:\n",
    "    device = torch.device('cpu')\n",
    "\n",
    "print_every = 100\n",
    "\n",
    "print('using device:', device)"
   ]
  },
  {
   "cell_type": "code",
   "execution_count": 6,
   "metadata": {},
   "outputs": [],
   "source": [
    "class Flatten(nn.Module):\n",
    "    def forward(self, x):\n",
    "        return flatten(x)\n",
    "\n",
    "def train(model, optimizer, epochs=1):\n",
    "    Loss_list = []\n",
    "    Accuracy_list = []\n",
    "    model = model.to(device=device) \n",
    "    for e in range(epochs):\n",
    "        for t, (x, y) in enumerate(loader_train):\n",
    "            model.train()  \n",
    "            x = x.to(device=device, dtype=dtype)  \n",
    "            y = y.to(device=device, dtype=torch.long)\n",
    "\n",
    "            scores = model(x)\n",
    "            loss = F.cross_entropy(scores, y)\n",
    "            optimizer.zero_grad()\n",
    "            loss.backward()\n",
    "            optimizer.step()\n",
    "\n",
    "            if t % print_every == 0:\n",
    "                print('Iteration %d, loss = %.4f' % (t, loss.item()))\n",
    "                acc,num_correct,num_samples = check_accuracy(loader_val, model)\n",
    "                print()\n",
    "        Loss_list.append(loss.item()) \n",
    "        Accuracy_list.append(100 * acc )\n",
    "def check_accuracy(loader, model):\n",
    "    if loader.dataset.train:\n",
    "        print('Checking accuracy on validation set')\n",
    "    else:\n",
    "        print('Checking accuracy on test set')   \n",
    "    num_correct = 0\n",
    "    num_samples = 0\n",
    "    model.eval() \n",
    "    with torch.no_grad():\n",
    "        for x, y in loader:\n",
    "            x = x.to(device=device, dtype=dtype) \n",
    "            y = y.to(device=device, dtype=torch.long)\n",
    "            scores = model(x)\n",
    "            _, preds = scores.max(1)\n",
    "            num_correct += (preds == y).sum()\n",
    "            num_samples += preds.size(0)\n",
    "        acc = float(num_correct) / num_samples\n",
    "        print('Got %d / %d correct (%.2f%%)' % (num_correct, num_samples, 100 * acc))  \n",
    "        return (acc,num_correct,num_samples)  "
   ]
  },
  {
   "cell_type": "code",
   "execution_count": null,
   "metadata": {},
   "outputs": [],
   "source": [
    "model_ALLC = None\n",
    "optimizer = None\n",
    "\n",
    "from torch.nn import init\n",
    "\n",
    "class ALLC(nn.Module):\n",
    "    def __init__(self,input_size,n_classes=10,**kwargs):\n",
    "        super(ALLC,self).__init__()\n",
    "        \n",
    "        self.conv1 = nn.Conv2d(input_size,96,3,padding=1)\n",
    "        init.xavier_uniform(self.conv1.weight, gain=np.sqrt(2.0))\n",
    "        init.constant(self.conv1.bias, 0.1)\n",
    "        \n",
    "        self.conv2 = nn.Conv2d(96,96,3,padding=1)\n",
    "        init.xavier_uniform(self.conv2.weight, gain=np.sqrt(2.0))\n",
    "        init.constant(self.conv2.bias, 0.1)\n",
    "        \n",
    "        self.conv3 = nn.Conv2d(96,96,3,padding=1,stride=2)\n",
    "        init.xavier_uniform(self.conv3.weight, gain=np.sqrt(2.0))\n",
    "        init.constant(self.conv3.bias, 0.1)\n",
    "        \n",
    "        self.conv4 = nn.Conv2d(96,192,3,padding=1)\n",
    "        init.xavier_uniform(self.conv4.weight, gain=np.sqrt(2.0))\n",
    "        init.constant(self.conv4.bias, 0.1)\n",
    "        \n",
    "        self.conv5 = nn.Conv2d(192,192,3,padding=1)\n",
    "    \n",
    "        \n",
    "        self.conv6 = nn.Conv2d(192,192,3,padding=1,stride=2)\n",
    "\n",
    " \n",
    "        self.conv7 = nn.Conv2d(192,192,3,padding=1)\n",
    "        self.conv8 = nn.Conv2d(192,192,1,padding=0)\n",
    "        self.class_conv = nn.Conv2d(192,n_classes,1,padding=0)\n",
    "\n",
    "        \n",
    "    def forward(self,x):\n",
    "        \n",
    "        #add drop\n",
    "        x_drop = F.dropout(x,0.2)\n",
    "        conv1_out = F.relu(self.conv1(x_drop))\n",
    "        conv2_out = F.relu(self.conv2(conv1_out))\n",
    "        conv3_out = F.relu(self.conv3(conv2_out))\n",
    "        \n",
    "        conv3_out = F.dropout(conv3_out,0.5)\n",
    "        \n",
    "        conv4_out = F.relu(self.conv4(conv3_out)) \n",
    "        conv5_out = F.relu(self.conv5(conv4_out))\n",
    "        conv6_out = F.relu(self.conv6(conv5_out))\n",
    "        \n",
    "        conv6_out = F.dropout(conv6_out,0.5)\n",
    "        \n",
    "        conv7_out = F.relu(self.conv7(conv6_out)) \n",
    "        conv8_out = F.relu(self.conv8(conv7_out))\n",
    "        class_out = F.relu(self.class_conv(conv8_out))\n",
    "        \n",
    "        pool_out = F.avg_pool2d(class_out,kernel_size=6)\n",
    "        pool_out.squeeze_(-1)\n",
    "        pool_out.squeeze_(-1)\n",
    "        \n",
    "        return pool_out\n",
    "\n",
    "model_ALLC = ALLC(3)\n",
    "       \n",
    "loss_fn = nn.CrossEntropyLoss()\n",
    "optimizer = optim.SGD(model_ALLC.parameters(), lr=0.01,\n",
    "                     momentum=0.9,weight_decay=0.001,nesterov=True)\n",
    "\n",
    "train(model_ALLC, optimizer, epochs=20) \n",
    "check_accuracy(loader_test, model_ALLC.cuda())"
   ]
  },
  {
   "cell_type": "code",
   "execution_count": 89,
   "metadata": {},
   "outputs": [
    {
     "data": {
      "image/png": "[encoded data removed]",
      "text/plain": [
       "<Figure size 432x288 with 2 Axes>"
      ]
     },
     "metadata": {
      "needs_background": "light"
     },
     "output_type": "display_data"
    },
    {
     "data": {
      "text/plain": [
       "<Figure size 432x288 with 0 Axes>"
      ]
     },
     "metadata": {},
     "output_type": "display_data"
    }
   ],
   "source": [
    "import matplotlib.pyplot as plt\n",
    "x1 = range(0,20)\n",
    "x2 = range(0,20)\n",
    "y1 = Accuracy_list\n",
    "y2 = Loss_list\n",
    "plt.subplot(2,1,1)\n",
    "plt.plot(x1, y1, 'o-')\n",
    "plt.title('Accuracy vs. epoches')\n",
    "plt.ylabel('train accuracy')\n",
    "plt.subplot(2, 1, 2)\n",
    "plt.plot(x2, y2, '.-')\n",
    "plt.xlabel('train loss vs. epoches')\n",
    "plt.ylabel('train loss')\n",
    "plt.show()\n"
   ]
  },
  {
   "cell_type": "code",
   "execution_count": 80,
   "metadata": {},
   "outputs": [],
   "source": [
    "import pickle\n",
    "import torch.utils.data as utils\n",
    "from PIL import Image\n",
    "from numpy import array\n",
    "NUM_TRAIN = 4900\n",
    "\n",
    "transform = T.Compose([\n",
    "                T.ToPILImage(),\n",
    "                T.ToTensor(),\n",
    "                T.Normalize((0.4914, 0.4822, 0.4465), (0.2023, 0.1994, 0.2010))\n",
    "            ])\n",
    "D = pickle.load(open('./subsets/class1/train','rb'),encoding='latin1')\n",
    "reshape = np.vstack(D['data']).reshape(-1,3,32,32)\n",
    "reshape_label = D['fine_labels']\n",
    "train_data = torch.from_numpy(reshape)\n",
    "train_data = train_data.type(torch.FloatTensor)\n",
    "train_label = torch.from_numpy(array(reshape_label)) \n",
    "\n",
    "for i in range(5000):\n",
    "    train_data[i] = transform(train_data[i]/255)\n",
    "    \n",
    "dataset = utils.TensorDataset(train_data,train_label)\n",
    "loader_train = DataLoader(dataset,batch_size=100,sampler=sampler.SubsetRandomSampler(range(NUM_TRAIN)))\n",
    "loader_val = DataLoader(dataset,batch_size=100,sampler=sampler.SubsetRandomSampler(range(NUM_TRAIN,5000)))\n",
    "\n",
    "\n"
   ]
  },
  {
   "cell_type": "code",
   "execution_count": 81,
   "metadata": {},
   "outputs": [],
   "source": [
    "D = pickle.load(open('./subsets/class1/test','rb'),encoding='latin1')\n",
    "reshape = np.vstack(D['data']).reshape(-1,3,32,32)\n",
    "reshape_label = D['fine_labels']\n",
    "test_data = torch.from_numpy(reshape)\n",
    "test_data = test_data.type(torch.FloatTensor)\n",
    "test_label = torch.from_numpy(array(reshape_label)) \n",
    "\n",
    "for i in range(1000):\n",
    "    test_data[i] = transform(test_data[i]/255)\n",
    "    \n",
    "dataset = utils.TensorDataset(test_data,test_label)\n",
    "loader_test = DataLoader(dataset,batch_size=100)"
   ]
  },
  {
   "cell_type": "code",
   "execution_count": 116,
   "metadata": {},
   "outputs": [],
   "source": [
    "load_model = model_ALLC\n",
    "load_model_dict = load_model.state_dict()\n",
    "#print(list(model.children()))\n",
    "features = list(model.children())[0:8]\n",
    "#print (features)\n",
    "features.extend(([Flatten()]))\n",
    "features.extend(([nn.Linear(420,10)]))\n"
   ]
  },
  {
   "cell_type": "code",
   "execution_count": null,
   "metadata": {},
   "outputs": [],
   "source": [
    "''''def unpickle(file):\n",
    "    import pickle\n",
    "    with open(file, 'rb') as fo:\n",
    "        dict = pickle.load(fo, encoding='bytes')\n",
    "    return dict\n",
    "unpickle('./subsets/class2/train')'''"
   ]
  },
  {
   "cell_type": "code",
   "execution_count": 121,
   "metadata": {},
   "outputs": [
    {
     "ename": "TypeError",
     "evalue": "argument of type 'method' is not iterable",
     "output_type": "error",
     "traceback": [
      "\u001b[0;31m---------------------------------------------------------------------------\u001b[0m",
      "\u001b[0;31mTypeError\u001b[0m                                 Traceback (most recent call last)",
      "\u001b[0;32m<ipython-input-121-1e9ebf5f57b6>\u001b[0m in \u001b[0;36m<module>\u001b[0;34m()\u001b[0m\n\u001b[1;32m      2\u001b[0m \u001b[0mmodel\u001b[0m \u001b[0;34m=\u001b[0m \u001b[0mnn\u001b[0m\u001b[0;34m.\u001b[0m\u001b[0mSequential\u001b[0m\u001b[0;34m(\u001b[0m\u001b[0;34m*\u001b[0m\u001b[0mfeatures\u001b[0m\u001b[0;34m)\u001b[0m\u001b[0;34m\u001b[0m\u001b[0m\n\u001b[1;32m      3\u001b[0m \u001b[0mmodel_dict\u001b[0m \u001b[0;34m=\u001b[0m \u001b[0mmodel\u001b[0m\u001b[0;34m.\u001b[0m\u001b[0mstate_dict\u001b[0m\u001b[0;34m\u001b[0m\u001b[0m\n\u001b[0;32m----> 4\u001b[0;31m \u001b[0mpretrained_dict\u001b[0m \u001b[0;34m=\u001b[0m \u001b[0;34m{\u001b[0m\u001b[0mk\u001b[0m\u001b[0;34m:\u001b[0m \u001b[0mv\u001b[0m \u001b[0;32mfor\u001b[0m \u001b[0mk\u001b[0m\u001b[0;34m,\u001b[0m \u001b[0mv\u001b[0m \u001b[0;32min\u001b[0m \u001b[0mpretrained_dict\u001b[0m\u001b[0;34m.\u001b[0m\u001b[0mitems\u001b[0m\u001b[0;34m(\u001b[0m\u001b[0;34m)\u001b[0m \u001b[0;32mif\u001b[0m \u001b[0mk\u001b[0m \u001b[0;32min\u001b[0m \u001b[0mmodel_dict\u001b[0m\u001b[0;34m}\u001b[0m\u001b[0;34m\u001b[0m\u001b[0m\n\u001b[0m\u001b[1;32m      5\u001b[0m \u001b[0mmodel_dict\u001b[0m\u001b[0;34m.\u001b[0m\u001b[0mupdate\u001b[0m\u001b[0;34m(\u001b[0m\u001b[0mpretrained_dict\u001b[0m\u001b[0;34m)\u001b[0m\u001b[0;34m\u001b[0m\u001b[0m\n\u001b[1;32m      6\u001b[0m \u001b[0mmodel\u001b[0m \u001b[0;34m=\u001b[0m \u001b[0mmodel\u001b[0m\u001b[0;34m.\u001b[0m\u001b[0mto\u001b[0m\u001b[0;34m(\u001b[0m\u001b[0mdevice\u001b[0m\u001b[0;34m=\u001b[0m\u001b[0mdevice\u001b[0m\u001b[0;34m)\u001b[0m\u001b[0;34m\u001b[0m\u001b[0m\n",
      "\u001b[0;32m<ipython-input-121-1e9ebf5f57b6>\u001b[0m in \u001b[0;36m<dictcomp>\u001b[0;34m(.0)\u001b[0m\n\u001b[1;32m      2\u001b[0m \u001b[0mmodel\u001b[0m \u001b[0;34m=\u001b[0m \u001b[0mnn\u001b[0m\u001b[0;34m.\u001b[0m\u001b[0mSequential\u001b[0m\u001b[0;34m(\u001b[0m\u001b[0;34m*\u001b[0m\u001b[0mfeatures\u001b[0m\u001b[0;34m)\u001b[0m\u001b[0;34m\u001b[0m\u001b[0m\n\u001b[1;32m      3\u001b[0m \u001b[0mmodel_dict\u001b[0m \u001b[0;34m=\u001b[0m \u001b[0mmodel\u001b[0m\u001b[0;34m.\u001b[0m\u001b[0mstate_dict\u001b[0m\u001b[0;34m\u001b[0m\u001b[0m\n\u001b[0;32m----> 4\u001b[0;31m \u001b[0mpretrained_dict\u001b[0m \u001b[0;34m=\u001b[0m \u001b[0;34m{\u001b[0m\u001b[0mk\u001b[0m\u001b[0;34m:\u001b[0m \u001b[0mv\u001b[0m \u001b[0;32mfor\u001b[0m \u001b[0mk\u001b[0m\u001b[0;34m,\u001b[0m \u001b[0mv\u001b[0m \u001b[0;32min\u001b[0m \u001b[0mpretrained_dict\u001b[0m\u001b[0;34m.\u001b[0m\u001b[0mitems\u001b[0m\u001b[0;34m(\u001b[0m\u001b[0;34m)\u001b[0m \u001b[0;32mif\u001b[0m \u001b[0mk\u001b[0m \u001b[0;32min\u001b[0m \u001b[0mmodel_dict\u001b[0m\u001b[0;34m}\u001b[0m\u001b[0;34m\u001b[0m\u001b[0m\n\u001b[0m\u001b[1;32m      5\u001b[0m \u001b[0mmodel_dict\u001b[0m\u001b[0;34m.\u001b[0m\u001b[0mupdate\u001b[0m\u001b[0;34m(\u001b[0m\u001b[0mpretrained_dict\u001b[0m\u001b[0;34m)\u001b[0m\u001b[0;34m\u001b[0m\u001b[0m\n\u001b[1;32m      6\u001b[0m \u001b[0mmodel\u001b[0m \u001b[0;34m=\u001b[0m \u001b[0mmodel\u001b[0m\u001b[0;34m.\u001b[0m\u001b[0mto\u001b[0m\u001b[0;34m(\u001b[0m\u001b[0mdevice\u001b[0m\u001b[0;34m=\u001b[0m\u001b[0mdevice\u001b[0m\u001b[0;34m)\u001b[0m\u001b[0;34m\u001b[0m\u001b[0m\n",
      "\u001b[0;31mTypeError\u001b[0m: argument of type 'method' is not iterable"
     ]
    }
   ],
   "source": [
    "pretrained_dict = load_model_dict\n",
    "model = nn.Sequential(*features)\n",
    "model_dict = model.state_dict\n",
    "pretrained_dict = {k: v for k, v in pretrained_dict.items() if k in model_dict}\n",
    "model_dict.update(pretrained_dict)\n",
    "model = model.to(device=device)\n",
    "optimizer = optim.SGD(model_ALLC.parameters(), lr=0.01,\n",
    "                     momentum=0.9,weight_decay=0.001,nesterov=True)\n",
    "train(model_ALLC, optimizer, epochs=20) \n",
    "check_accuracy(loader_test, model_ALLC.cuda())\n"
   ]
  },
  {
   "cell_type": "code",
   "execution_count": null,
   "metadata": {},
   "outputs": [],
   "source": []
  }
 ],
 "metadata": {
  "kernelspec": {
   "display_name": "Python 3",
   "language": "python",
   "name": "python3"
  },
  "language_info": {
   "codemirror_mode": {
    "name": "ipython",
    "version": 3
   },
   "file_extension": ".py",
   "mimetype": "text/x-python",
   "name": "python",
   "nbconvert_exporter": "python",
   "pygments_lexer": "ipython3",
   "version": "3.7.0"
  }
 },
 "nbformat": 4,
 "nbformat_minor": 2
}
